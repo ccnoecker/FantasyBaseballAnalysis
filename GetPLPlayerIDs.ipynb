{
 "cells": [
  {
   "cell_type": "code",
   "execution_count": null,
   "metadata": {},
   "outputs": [],
   "source": [
    "import pandas as pd\n",
    "import re\n",
    "import statsapi\n",
    "from requests import get\n",
    "\n",
    "import constants\n",
    "import utils"
   ]
  },
  {
   "cell_type": "markdown",
   "metadata": {},
   "source": [
    "## TODO: Take the sheet directly from Google Sheets instead of CSV"
   ]
  },
  {
   "cell_type": "code",
   "execution_count": null,
   "metadata": {},
   "outputs": [],
   "source": [
    "pl_export = utils.load_dataframe(constants.OWNED_PLAYERS_FILENAME)"
   ]
  },
  {
   "cell_type": "code",
   "execution_count": null,
   "metadata": {},
   "outputs": [],
   "source": [
    "owned_players = utils.clean_pl_export(pl_export)"
   ]
  },
  {
   "cell_type": "code",
   "execution_count": null,
   "metadata": {},
   "outputs": [],
   "source": [
    "single_teams = []\n",
    "for column in owned_players.columns:\n",
    "    if column == 'Team Position':\n",
    "        continue\n",
    "    single_team = owned_players[['Team Position', column]].copy()\n",
    "    single_team.columns = ['Team Position', 'Player']\n",
    "    single_team['PL Owner'] = column\n",
    "    single_teams.append(single_team)\n",
    "len(single_teams)"
   ]
  },
  {
   "cell_type": "code",
   "execution_count": null,
   "metadata": {},
   "outputs": [],
   "source": [
    "owned_players_full = pd.concat(single_teams)\n",
    "# Remove empty bench spots\n",
    "owned_players_full = owned_players_full.loc[~pd.isna(owned_players_full['Player'])]\n",
    "owned_players_full"
   ]
  },
  {
   "cell_type": "code",
   "execution_count": null,
   "metadata": {},
   "outputs": [],
   "source": [
    "owned_players_full[['PL Name', 'Pos Team']] = owned_players_full['Player'].str.rsplit('-', n=1, expand=True)\n",
    "owned_players_full['Player Positions'] = owned_players_full['Pos Team'].str.strip().str[:-3]\n",
    "owned_players_full['Team'] = owned_players_full['Pos Team'].str.strip().str[-3:].str.upper()\n",
    "owned_players_full"
   ]
  },
  {
   "cell_type": "code",
   "execution_count": null,
   "metadata": {},
   "outputs": [],
   "source": [
    "def get_player_id_from_pl_name(pl_name, pl_team):\n",
    "    player_id = -1\n",
    "    search_value = None\n",
    "\n",
    "    # Split the PL-formatted name (JTRealmuto) on capital letters. Take the last value (name) unless special handling is required.\n",
    "    split_name = re.findall('[A-Z][^A-Z]*', pl_name)\n",
    "    first_initial = split_name[0][0]\n",
    "    split_last_name_index = -1\n",
    "    last_name = split_name[split_last_name_index]\n",
    "\n",
    "    # Handle special cases...\n",
    "    #if pl_name in constants.PLAYER_LOOKUP_VALUES.keys():\n",
    "    #    search_value = constants.PLAYER_LOOKUP_VALUES[pl_name]\n",
    "    search_value = last_name\n",
    "    while search_value.upper() in ('JR', 'I'):\n",
    "        split_last_name_index -= 1\n",
    "        search_value = split_name[split_last_name_index]\n",
    "\n",
    "    # Lookup player in statsapi\n",
    "    lookup_results = get(f'{constants.STATSAPI_PEOPLE_SEARCH_PATH}?names={search_value}&hydrate=currentTeam').json()['people']\n",
    "\n",
    "    print(f'Got {len(lookup_results)} results from the API for player {pl_name}, team {pl_team}, search value {search_value}')\n",
    "\n",
    "    #if pl_name in constants.PLAYER_LOOKUP_VALUES.keys():\n",
    "    #    player_id = next((player for player in lookup_results), {}).get('id')\n",
    "    #    print(f'Handled special case for player {pl_name}, using search value {search_value}')\n",
    "    #else:\n",
    "    for player in lookup_results:\n",
    "        team_id = utils.get_team_id(pl_team)\n",
    "        if first_initial == player['fullName'][0] and team_id == player['currentTeam']['id']:\n",
    "            player_id = player['id']\n",
    "            break\n",
    "\n",
    "    if player_id == -1:\n",
    "        print(f'Could not match PL player {pl_name} to an ID, lookup results: {lookup_results}')\n",
    "\n",
    "    return player_id"
   ]
  },
  {
   "cell_type": "code",
   "execution_count": null,
   "metadata": {},
   "outputs": [],
   "source": [
    "owned_players_full['Player ID'] = owned_players_full.apply(lambda row: get_player_id_from_pl_name(row['PL Name'], row['Team']), axis=1)\n",
    "owned_players_full"
   ]
  },
  {
   "cell_type": "code",
   "execution_count": null,
   "metadata": {},
   "outputs": [],
   "source": [
    "utils.save_dataframe(owned_players_full, constants.OWNED_PLAYERS_IDS_FILENAME)"
   ]
  },
  {
   "cell_type": "code",
   "execution_count": null,
   "metadata": {},
   "outputs": [],
   "source": []
  }
 ],
 "metadata": {
  "kernelspec": {
   "display_name": ".venv",
   "language": "python",
   "name": "python3"
  },
  "language_info": {
   "codemirror_mode": {
    "name": "ipython",
    "version": 3
   },
   "file_extension": ".py",
   "mimetype": "text/x-python",
   "name": "python",
   "nbconvert_exporter": "python",
   "pygments_lexer": "ipython3",
   "version": "3.10.8"
  }
 },
 "nbformat": 4,
 "nbformat_minor": 2
}
