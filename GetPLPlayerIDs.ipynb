{
 "cells": [
  {
   "cell_type": "code",
   "execution_count": null,
   "metadata": {},
   "outputs": [],
   "source": [
    "from re import search\n",
    "\n",
    "import pandas as pd\n",
    "\n",
    "import constants\n",
    "import utils"
   ]
  },
  {
   "cell_type": "code",
   "execution_count": null,
   "metadata": {},
   "outputs": [],
   "source": [
    "def get_current_game_path(pl_rosters_path):\n",
    "    games = [item for item in pl_rosters_path.iterdir() if item.is_dir()]\n",
    "    return max(games)"
   ]
  },
  {
   "cell_type": "code",
   "execution_count": null,
   "metadata": {},
   "outputs": [],
   "source": [
    "# Define the regex pattern to match the ID number within parentheses\n",
    "PL_PLAYER_ID_PATTERN = r\"\\((\\d+)\\)\"\n",
    "def parse_pl_player_id(pl_player_id_string):\n",
    "    match = search(PL_PLAYER_ID_PATTERN, pl_player_id_string)\n",
    "    # Extract and print the ID number if a match is found\n",
    "    if match:\n",
    "        player_id = match.group(1)\n",
    "        print(f'Extracted ID number: {player_id}')\n",
    "        return player_id\n",
    "    else:\n",
    "        raise ValueError(f'ID number not found in the string {pl_player_id_string}')"
   ]
  },
  {
   "cell_type": "code",
   "execution_count": null,
   "metadata": {},
   "outputs": [],
   "source": [
    "pl_game_path = get_current_game_path(constants.PL_ROSTERS_PATH)"
   ]
  },
  {
   "cell_type": "code",
   "execution_count": null,
   "metadata": {},
   "outputs": [],
   "source": [
    "team_dataframes = []\n",
    "for file_name in pl_game_path.glob('*.tsv'):\n",
    "    df = pd.read_csv(file_name, sep='\\t')\n",
    "    df['team'] = file_name.stem\n",
    "    team_dataframes.append(df)\n",
    "owned_players = pd.concat(team_dataframes)"
   ]
  },
  {
   "cell_type": "code",
   "execution_count": null,
   "metadata": {},
   "outputs": [],
   "source": [
    "owned_players['playerId'] = owned_players['withId'].apply(parse_pl_player_id)\n",
    "owned_players"
   ]
  },
  {
   "cell_type": "code",
   "execution_count": null,
   "metadata": {},
   "outputs": [],
   "source": [
    "utils.save_dataframe(owned_players, constants.OWNED_PLAYERS_IDS_FILENAME)"
   ]
  },
  {
   "cell_type": "code",
   "execution_count": null,
   "metadata": {},
   "outputs": [],
   "source": []
  }
 ],
 "metadata": {
  "kernelspec": {
   "display_name": ".venv",
   "language": "python",
   "name": "python3"
  },
  "language_info": {
   "codemirror_mode": {
    "name": "ipython",
    "version": 3
   },
   "file_extension": ".py",
   "mimetype": "text/x-python",
   "name": "python",
   "nbconvert_exporter": "python",
   "pygments_lexer": "ipython3",
   "version": "3.10.8"
  }
 },
 "nbformat": 4,
 "nbformat_minor": 2
}
