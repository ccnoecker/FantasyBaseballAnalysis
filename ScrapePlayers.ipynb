{
 "cells": [
  {
   "cell_type": "code",
   "execution_count": 1,
   "metadata": {},
   "outputs": [],
   "source": [
    "import pandas as pd\n",
    "import requests\n",
    "from bs4 import BeautifulSoup\n",
    "\n",
    "import constants\n",
    "import utils"
   ]
  },
  {
   "cell_type": "markdown",
   "metadata": {},
   "source": [
    "Scrape a list of all players from fantasypros"
   ]
  },
  {
   "cell_type": "code",
   "execution_count": 2,
   "metadata": {},
   "outputs": [],
   "source": [
    "PLAYERS_URL = 'https://www.fantasypros.com/mlb/rankings/ros-overall.php'\n",
    "HEADERS = ['Rank', 'Player', 'Best', 'Worst', 'Avg', 'Std Dev', 'ADP', 'vs. ADP', 'Notes']"
   ]
  },
  {
   "cell_type": "code",
   "execution_count": 11,
   "metadata": {},
   "outputs": [],
   "source": [
    "site_data = requests.get(PLAYERS_URL).text\n",
    "soup = BeautifulSoup(site_data)\n",
    "table = soup.find('table')"
   ]
  },
  {
   "cell_type": "code",
   "execution_count": 8,
   "metadata": {},
   "outputs": [],
   "source": [
    "players = []\n",
    "for row in table.tbody.find_all('tr'):\n",
    "    player = []\n",
    "    for data in row.find_all('td'):\n",
    "        player.append(data.text.strip())\n",
    "    players.append(player)"
   ]
  },
  {
   "cell_type": "code",
   "execution_count": 10,
   "metadata": {},
   "outputs": [],
   "source": [
    "df = pd.DataFrame(players, columns=HEADERS)\n",
    "# Remove unused column\n",
    "df.drop(columns=['Notes'], inplace=True)\n",
    "utils.save_dataframe(df, constants.FANTASYPROS_PLAYERS_FILENAME)"
   ]
  },
  {
   "cell_type": "code",
   "execution_count": null,
   "metadata": {},
   "outputs": [],
   "source": []
  }
 ],
 "metadata": {
  "kernelspec": {
   "display_name": ".venv",
   "language": "python",
   "name": "python3"
  },
  "language_info": {
   "codemirror_mode": {
    "name": "ipython",
    "version": 3
   },
   "file_extension": ".py",
   "mimetype": "text/x-python",
   "name": "python",
   "nbconvert_exporter": "python",
   "pygments_lexer": "ipython3",
   "version": "3.10.8"
  }
 },
 "nbformat": 4,
 "nbformat_minor": 2
}
