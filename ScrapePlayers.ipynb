{
 "cells": [
  {
   "cell_type": "code",
   "execution_count": 1,
   "metadata": {},
   "outputs": [],
   "source": [
    "import pandas as pd\n",
    "import requests\n",
    "from bs4 import BeautifulSoup\n",
    "\n",
    "import constants\n",
    "import utils"
   ]
  },
  {
   "cell_type": "markdown",
   "metadata": {},
   "source": [
    "Scrape a list of all players from fantasypros"
   ]
  },
  {
   "cell_type": "code",
   "execution_count": 2,
   "metadata": {},
   "outputs": [],
   "source": [
    "PLAYERS_URL = 'https://www.fantasypros.com/mlb/rankings/ros-overall.php'\n",
    "HEADERS = ['Rank', 'Player', 'Best', 'Worst', 'Avg', 'Std Dev', 'ADP', 'vs. ADP', 'Notes']"
   ]
  },
  {
   "cell_type": "code",
   "execution_count": 3,
   "metadata": {},
   "outputs": [],
   "source": [
    "site_data = requests.get(PLAYERS_URL).text\n",
    "soup = BeautifulSoup(site_data)\n",
    "table = soup.find('table')"
   ]
  },
  {
   "cell_type": "code",
   "execution_count": 4,
   "metadata": {},
   "outputs": [],
   "source": [
    "players = []\n",
    "for row in table.tbody.find_all('tr'):\n",
    "    player = []\n",
    "    for data in row.find_all('td'):\n",
    "        player.append(data.text.strip())\n",
    "    players.append(player)"
   ]
  },
  {
   "cell_type": "code",
   "execution_count": 5,
   "metadata": {},
   "outputs": [],
   "source": [
    "df = pd.DataFrame(players, columns=HEADERS)\n",
    "# Remove unused column\n",
    "df.drop(columns=['Notes'], inplace=True)\n"
   ]
  },
  {
   "cell_type": "code",
   "execution_count": 6,
   "metadata": {},
   "outputs": [],
   "source": [
    "# Parse out player, team and positions\n",
    "df['Team'] = df['Player'].str.split('(', n=1).str[1].str.split(' ', n=1).str[0]\n",
    "df['Positions'] = df['Player'].str.split(')', n=1).str[0].str.rsplit(' ', n=1).str[1]\n",
    "df['Player Name'] = df['Player'].str.split(' \\(', n=1).str[0]"
   ]
  },
  {
   "cell_type": "code",
   "execution_count": 7,
   "metadata": {},
   "outputs": [],
   "source": [
    "# Match players to an MLB ID\n",
    "df['SearchValue'] = df['Player Name'].str.replace(' ', '')"
   ]
  },
  {
   "cell_type": "code",
   "execution_count": 8,
   "metadata": {},
   "outputs": [],
   "source": [
    "df['Player JSON'] = df['SearchValue'].apply(utils.search_for_player)"
   ]
  },
  {
   "cell_type": "code",
   "execution_count": 12,
   "metadata": {},
   "outputs": [],
   "source": [
    "df['Player ID'] = df['Player JSON'].apply(lambda player_dict: player_dict.get('id') if player_dict is not None else -1)\n",
    "df.drop(columns=['Player JSON', 'SearchValue'], inplace=True)"
   ]
  },
  {
   "cell_type": "code",
   "execution_count": 13,
   "metadata": {},
   "outputs": [],
   "source": [
    "utils.save_dataframe(df, constants.FANTASYPROS_PLAYERS_FILENAME)"
   ]
  },
  {
   "cell_type": "code",
   "execution_count": null,
   "metadata": {},
   "outputs": [],
   "source": []
  }
 ],
 "metadata": {
  "kernelspec": {
   "display_name": ".venv",
   "language": "python",
   "name": "python3"
  },
  "language_info": {
   "codemirror_mode": {
    "name": "ipython",
    "version": 3
   },
   "file_extension": ".py",
   "mimetype": "text/x-python",
   "name": "python",
   "nbconvert_exporter": "python",
   "pygments_lexer": "ipython3",
   "version": "3.10.8"
  }
 },
 "nbformat": 4,
 "nbformat_minor": 2
}
