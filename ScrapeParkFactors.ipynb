{
 "cells": [
  {
   "cell_type": "code",
   "execution_count": 1,
   "metadata": {},
   "outputs": [],
   "source": [
    "import pandas as pd\n",
    "import requests\n",
    "import statsapi\n",
    "from bs4 import BeautifulSoup\n",
    "\n",
    "import constants\n",
    "import utils"
   ]
  },
  {
   "cell_type": "markdown",
   "metadata": {},
   "source": [
    "### Scrape park factors from Fantasypros"
   ]
  },
  {
   "cell_type": "code",
   "execution_count": 2,
   "metadata": {},
   "outputs": [],
   "source": [
    "PARK_FACTORS_URL = 'https://www.fantasypros.com/mlb/park-factors.php'\n",
    "site_data = requests.get(PARK_FACTORS_URL).text\n",
    "soup = BeautifulSoup(site_data)"
   ]
  },
  {
   "cell_type": "markdown",
   "metadata": {},
   "source": [
    "Get table headers"
   ]
  },
  {
   "cell_type": "code",
   "execution_count": 3,
   "metadata": {},
   "outputs": [
    {
     "data": {
      "text/plain": [
       "['Park Name', 'Runs', 'HR', '1B', '2B', '3B', 'Splits']"
      ]
     },
     "execution_count": 3,
     "metadata": {},
     "output_type": "execute_result"
    }
   ],
   "source": [
    "table = soup.find('table')\n",
    "headers = [header.text for header in table.find_all('th')]\n",
    "headers.append('Splits')\n",
    "headers"
   ]
  },
  {
   "cell_type": "markdown",
   "metadata": {},
   "source": [
    "Parse table data"
   ]
  },
  {
   "cell_type": "code",
   "execution_count": 4,
   "metadata": {},
   "outputs": [
    {
     "data": {
      "text/plain": [
       "[['Chase Field(Arizona Diamondbacks)',\n",
       "  '0.994',\n",
       "  '0.765',\n",
       "  '1.095',\n",
       "  '1.134',\n",
       "  '1.303',\n",
       "  'All'],\n",
       " ['Chase Field(Arizona Diamondbacks)',\n",
       "  '1.025',\n",
       "  '0.782',\n",
       "  '1.072',\n",
       "  '1.128',\n",
       "  '1.453',\n",
       "  'LHB']]"
      ]
     },
     "execution_count": 4,
     "metadata": {},
     "output_type": "execute_result"
    }
   ],
   "source": [
    "park_factors = []\n",
    "for row in table.tbody.find_all('tr'):\n",
    "    park_factor = []\n",
    "    for data in row.find_all('td'):\n",
    "        park_factor.append(data.text.strip())\n",
    "\n",
    "    row_class = row.get('class')[0]\n",
    "    if row_class == 'R':\n",
    "        splits = 'RHB'\n",
    "    elif row_class == 'L':\n",
    "        splits = 'LHB'\n",
    "    else:\n",
    "        splits = 'All'\n",
    "    park_factor.append(splits)\n",
    "    park_factors.append(park_factor)\n",
    "park_factors[:2]"
   ]
  },
  {
   "cell_type": "code",
   "execution_count": 5,
   "metadata": {},
   "outputs": [
    {
     "data": {
      "text/html": [
       "<div>\n",
       "<style scoped>\n",
       "    .dataframe tbody tr th:only-of-type {\n",
       "        vertical-align: middle;\n",
       "    }\n",
       "\n",
       "    .dataframe tbody tr th {\n",
       "        vertical-align: top;\n",
       "    }\n",
       "\n",
       "    .dataframe thead th {\n",
       "        text-align: right;\n",
       "    }\n",
       "</style>\n",
       "<table border=\"1\" class=\"dataframe\">\n",
       "  <thead>\n",
       "    <tr style=\"text-align: right;\">\n",
       "      <th></th>\n",
       "      <th>Park Name</th>\n",
       "      <th>Runs</th>\n",
       "      <th>HR</th>\n",
       "      <th>1B</th>\n",
       "      <th>2B</th>\n",
       "      <th>3B</th>\n",
       "      <th>Splits</th>\n",
       "      <th>Team</th>\n",
       "    </tr>\n",
       "  </thead>\n",
       "  <tbody>\n",
       "    <tr>\n",
       "      <th>0</th>\n",
       "      <td>Chase Field</td>\n",
       "      <td>0.994</td>\n",
       "      <td>0.765</td>\n",
       "      <td>1.095</td>\n",
       "      <td>1.134</td>\n",
       "      <td>1.303</td>\n",
       "      <td>All</td>\n",
       "      <td>Arizona Diamondbacks</td>\n",
       "    </tr>\n",
       "    <tr>\n",
       "      <th>1</th>\n",
       "      <td>Chase Field</td>\n",
       "      <td>1.025</td>\n",
       "      <td>0.782</td>\n",
       "      <td>1.072</td>\n",
       "      <td>1.128</td>\n",
       "      <td>1.453</td>\n",
       "      <td>LHB</td>\n",
       "      <td>Arizona Diamondbacks</td>\n",
       "    </tr>\n",
       "  </tbody>\n",
       "</table>\n",
       "</div>"
      ],
      "text/plain": [
       "     Park Name   Runs     HR     1B     2B     3B Splits                  Team\n",
       "0  Chase Field  0.994  0.765  1.095  1.134  1.303    All  Arizona Diamondbacks\n",
       "1  Chase Field  1.025  0.782  1.072  1.128  1.453    LHB  Arizona Diamondbacks"
      ]
     },
     "execution_count": 5,
     "metadata": {},
     "output_type": "execute_result"
    }
   ],
   "source": [
    "factors_df = pd.DataFrame(park_factors, columns=headers)\n",
    "factors_df[['Park Name', 'Team']] = factors_df['Park Name'].str.split('(', expand=True)\n",
    "factors_df['Team'] = factors_df['Team'].str[:-1]\n",
    "factors_df.head(2)"
   ]
  },
  {
   "cell_type": "code",
   "execution_count": 6,
   "metadata": {},
   "outputs": [],
   "source": [
    "utils.save_dataframe(factors_df, constants.PARK_FACTORS_FILENAME)"
   ]
  }
 ],
 "metadata": {
  "kernelspec": {
   "display_name": ".venv",
   "language": "python",
   "name": "python3"
  },
  "language_info": {
   "codemirror_mode": {
    "name": "ipython",
    "version": 3
   },
   "file_extension": ".py",
   "mimetype": "text/x-python",
   "name": "python",
   "nbconvert_exporter": "python",
   "pygments_lexer": "ipython3",
   "version": "3.10.8"
  }
 },
 "nbformat": 4,
 "nbformat_minor": 2
}
