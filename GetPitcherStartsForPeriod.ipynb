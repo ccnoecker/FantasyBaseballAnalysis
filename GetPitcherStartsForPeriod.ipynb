{
 "cells": [
  {
   "cell_type": "code",
   "execution_count": null,
   "metadata": {},
   "outputs": [],
   "source": [
    "import pandas as pd\n",
    "import statsapi\n",
    "from datetime import datetime"
   ]
  },
  {
   "cell_type": "code",
   "execution_count": null,
   "metadata": {},
   "outputs": [],
   "source": [
    "PITCHER_POSITIONS = ['SP', 'RP']"
   ]
  },
  {
   "cell_type": "code",
   "execution_count": null,
   "metadata": {},
   "outputs": [],
   "source": [
    "PERIOD_START = input('Enter period start date (YYYY-mm-dd): '), '%Y-%m-%d'\n",
    "PERIOD_END = input('Enter period end date (YYYY-mm-dd): '), '%Y-%m-%d'"
   ]
  },
  {
   "cell_type": "code",
   "execution_count": null,
   "metadata": {},
   "outputs": [],
   "source": [
    "team = pd.read_csv('./team.csv')\n",
    "team.head(2)"
   ]
  },
  {
   "cell_type": "code",
   "execution_count": null,
   "metadata": {},
   "outputs": [],
   "source": [
    "pitchers = team.loc[team['Eligible positions'].apply(lambda row: any([position in row for position in PITCHER_POSITIONS]))]"
   ]
  },
  {
   "cell_type": "code",
   "execution_count": null,
   "metadata": {},
   "outputs": [],
   "source": [
    "def get_team_games(team_id, start_date, end_date):\n",
    "    schedule = statsapi.get('schedule', params={\n",
    "        'teamId': team_id,\n",
    "        'startDate': start_date,\n",
    "        'endDate': end_date,\n",
    "        'sportId': 1,\n",
    "        'hydrate': 'probablePitcher(note)'\n",
    "    })\n",
    "    return schedule['dates']\n",
    "\n",
    "\n",
    "def get_pitcher_start_count(team_games, pitcher_name):\n",
    "    return sum(1 for game in team_games if game['teams']['away']['probablePitcher']['fullName'] == pitcher_name \n",
    "               or game['teams']['home']['probablePitcher']['fullName'] == pitcher_name)"
   ]
  },
  {
   "cell_type": "code",
   "execution_count": null,
   "metadata": {},
   "outputs": [],
   "source": []
  }
 ],
 "metadata": {
  "kernelspec": {
   "display_name": ".venv",
   "language": "python",
   "name": "python3"
  },
  "language_info": {
   "codemirror_mode": {
    "name": "ipython",
    "version": 3
   },
   "file_extension": ".py",
   "mimetype": "text/x-python",
   "name": "python",
   "nbconvert_exporter": "python",
   "pygments_lexer": "ipython3",
   "version": "3.10.8"
  }
 },
 "nbformat": 4,
 "nbformat_minor": 2
}
