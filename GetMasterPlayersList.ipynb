{
 "cells": [
  {
   "cell_type": "markdown",
   "metadata": {},
   "source": [
    "## **Before running this script, make sure to run ScrapePlayers to get current player rankings**"
   ]
  },
  {
   "cell_type": "code",
   "execution_count": null,
   "metadata": {},
   "outputs": [],
   "source": [
    "import pandas as pd\n",
    "\n",
    "import constants\n",
    "import utils"
   ]
  },
  {
   "cell_type": "code",
   "execution_count": null,
   "metadata": {},
   "outputs": [],
   "source": [
    "all_players = utils.load_dataframe(constants.ALL_PLAYERS_FILENAME)\n",
    "fp_rankings = utils.load_dataframe(constants.FANTASYPROS_PLAYERS_FILENAME)\n",
    "owned_players = utils.load_dataframe(constants.OWNED_PLAYERS_IDS_FILENAME)"
   ]
  },
  {
   "cell_type": "code",
   "execution_count": null,
   "metadata": {},
   "outputs": [],
   "source": [
    "players_with_rankings = pd.merge(all_players, fp_rankings, how='left', left_on='ID', right_on='Player ID')\n",
    "players_with_ownership = pd.merge(players_with_rankings, owned_players, how='left', left_on='ID', right_on='Player ID')"
   ]
  },
  {
   "cell_type": "code",
   "execution_count": null,
   "metadata": {},
   "outputs": [],
   "source": [
    "players_with_ownership = players_with_ownership.sort_values(by='Rank', ascending=True)"
   ]
  },
  {
   "cell_type": "code",
   "execution_count": null,
   "metadata": {},
   "outputs": [],
   "source": [
    "# Drop duplicate columns\n",
    "players_with_ownership = players_with_ownership.drop(columns=['Player', 'Team_y', 'Player Name', 'Player ID_x', 'Player ID_y', 'position', 'players', 'withId'])"
   ]
  },
  {
   "cell_type": "code",
   "execution_count": null,
   "metadata": {},
   "outputs": [],
   "source": [
    "utils.save_dataframe(players_with_ownership, constants.MASTER_PLAYERS_FILENAME)"
   ]
  },
  {
   "cell_type": "code",
   "execution_count": null,
   "metadata": {},
   "outputs": [],
   "source": []
  }
 ],
 "metadata": {
  "kernelspec": {
   "display_name": ".venv",
   "language": "python",
   "name": "python3"
  },
  "language_info": {
   "codemirror_mode": {
    "name": "ipython",
    "version": 3
   },
   "file_extension": ".py",
   "mimetype": "text/x-python",
   "name": "python",
   "nbconvert_exporter": "python",
   "pygments_lexer": "ipython3",
   "version": "3.10.8"
  }
 },
 "nbformat": 4,
 "nbformat_minor": 2
}
