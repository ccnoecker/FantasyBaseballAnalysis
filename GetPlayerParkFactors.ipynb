{
 "cells": [
  {
   "cell_type": "markdown",
   "metadata": {},
   "source": [
    "## **Before running this script, make sure to run ScrapeParkFactors to get current park factors**"
   ]
  },
  {
   "cell_type": "code",
   "execution_count": null,
   "metadata": {},
   "outputs": [],
   "source": [
    "import statsapi\n",
    "from pandas import DataFrame\n",
    "from statistics import fmean\n",
    "\n",
    "import constants\n",
    "import utils"
   ]
  },
  {
   "cell_type": "code",
   "execution_count": null,
   "metadata": {},
   "outputs": [],
   "source": [
    "PERIOD_START = input('Enter period start (YYYY-mm-dd): ')\n",
    "PERIOD_END = input('Enter period end (YYYY-mm-dd): ')"
   ]
  },
  {
   "cell_type": "markdown",
   "metadata": {},
   "source": [
    "Load input files"
   ]
  },
  {
   "cell_type": "code",
   "execution_count": null,
   "metadata": {},
   "outputs": [],
   "source": [
    "team_df:DataFrame = utils.load_dataframe(constants.TEAM_FILENAME)\n",
    "team_df.head(2)"
   ]
  },
  {
   "cell_type": "code",
   "execution_count": null,
   "metadata": {},
   "outputs": [],
   "source": [
    "factors_df = utils.load_dataframe(constants.PARK_FACTORS_FILENAME)\n",
    "factors_df.head(2)"
   ]
  },
  {
   "cell_type": "markdown",
   "metadata": {},
   "source": [
    "### Calculate park factor for each player in given period"
   ]
  },
  {
   "cell_type": "code",
   "execution_count": null,
   "metadata": {},
   "outputs": [],
   "source": [
    "def get_relevant_factors(player_name, player_position):\n",
    "    player_splits = 'All'\n",
    "    if player_position not in constants.PITCHER_POSITIONS:\n",
    "        player_bat_side = utils.lookup_player_stats(player_name)['bat_side']\n",
    "        player_splits = constants.HITTER_FACTORS_MAPPING[player_bat_side]\n",
    "    return factors_df.loc[factors_df['Splits'] == player_splits]"
   ]
  },
  {
   "cell_type": "code",
   "execution_count": null,
   "metadata": {},
   "outputs": [],
   "source": [
    "def get_player_scheduled_venues(period_start, period_end, team_name):\n",
    "    team_id = utils.get_team_id(team_name)\n",
    "    game_info = statsapi.schedule(start_date=period_start, end_date=period_end, team=team_id)\n",
    "    game_ids = []\n",
    "    venues = []\n",
    "    for game in game_info:\n",
    "        # Don't count the same game twice, e.g., if it was postponed and rescheduled\n",
    "        if game['game_id'] in game_ids:\n",
    "            continue\n",
    "        venues.append(game['venue_name'])\n",
    "        game_ids.append(game['game_id'])\n",
    "    return venues"
   ]
  },
  {
   "cell_type": "code",
   "execution_count": null,
   "metadata": {},
   "outputs": [],
   "source": [
    "def get_average_park_factors(relevant_factors:DataFrame, scheduled_venues:list):\n",
    "    all_factors = []\n",
    "    for venue in scheduled_venues:\n",
    "        try:\n",
    "            factor = list(relevant_factors.loc[relevant_factors['Park Name'].str.upper() == venue.upper(), 'Runs'])[0]\n",
    "        except IndexError:\n",
    "            # Catch and ignore non-standard stadiums like Mexico City or Seoul\n",
    "            continue\n",
    "        all_factors.append(factor)\n",
    "    return fmean(all_factors)"
   ]
  },
  {
   "cell_type": "code",
   "execution_count": null,
   "metadata": {},
   "outputs": [],
   "source": [
    "team_df['Relevant Factors'] = team_df.apply(lambda row: get_relevant_factors(row['Player'], row['Position']), axis=1)"
   ]
  },
  {
   "cell_type": "code",
   "execution_count": null,
   "metadata": {},
   "outputs": [],
   "source": [
    "team_df['Scheduled Games'] = team_df.apply(lambda row: get_player_scheduled_venues(PERIOD_START, PERIOD_END, row['Team']), axis=1)"
   ]
  },
  {
   "cell_type": "code",
   "execution_count": null,
   "metadata": {},
   "outputs": [],
   "source": [
    "team_df['Average Factors'] = team_df.apply(lambda row: get_average_park_factors(row['Relevant Factors'], row['Scheduled Games']), axis=1)"
   ]
  },
  {
   "cell_type": "code",
   "execution_count": null,
   "metadata": {},
   "outputs": [],
   "source": [
    "team_df.drop(columns=['Relevant Factors', 'Scheduled Games'], inplace=True)\n",
    "utils.save_dataframe(team_df, f'team-with-park-factors_{PERIOD_START}-{PERIOD_END}.csv')"
   ]
  },
  {
   "cell_type": "code",
   "execution_count": null,
   "metadata": {},
   "outputs": [],
   "source": []
  }
 ],
 "metadata": {
  "kernelspec": {
   "display_name": ".venv",
   "language": "python",
   "name": "python3"
  },
  "language_info": {
   "codemirror_mode": {
    "name": "ipython",
    "version": 3
   },
   "file_extension": ".py",
   "mimetype": "text/x-python",
   "name": "python",
   "nbconvert_exporter": "python",
   "pygments_lexer": "ipython3",
   "version": "3.10.8"
  }
 },
 "nbformat": 4,
 "nbformat_minor": 2
}
