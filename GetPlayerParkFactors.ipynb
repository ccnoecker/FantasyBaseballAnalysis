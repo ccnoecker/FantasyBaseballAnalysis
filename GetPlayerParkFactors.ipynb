{
 "cells": [
  {
   "cell_type": "code",
   "execution_count": null,
   "metadata": {},
   "outputs": [],
   "source": [
    "import statsapi\n",
    "from pandas import DataFrame\n",
    "\n",
    "import constants\n",
    "import utils"
   ]
  },
  {
   "cell_type": "markdown",
   "metadata": {},
   "source": [
    "Load input files"
   ]
  },
  {
   "cell_type": "code",
   "execution_count": null,
   "metadata": {},
   "outputs": [],
   "source": [
    "team_df:DataFrame = utils.load_dataframe(constants.TEAM_FILENAME)\n",
    "team_df.head(2)"
   ]
  },
  {
   "cell_type": "code",
   "execution_count": null,
   "metadata": {},
   "outputs": [],
   "source": [
    "factors_df = utils.load_dataframe(constants.PARK_FACTORS_FILENAME)\n",
    "factors_df.head(2)"
   ]
  },
  {
   "cell_type": "markdown",
   "metadata": {},
   "source": [
    "### Calculate park factor for each player in given period"
   ]
  },
  {
   "cell_type": "code",
   "execution_count": null,
   "metadata": {},
   "outputs": [],
   "source": [
    "def get_relevant_factors(player_name, player_position):\n",
    "    player_splits = 'All'\n",
    "    if player_position not in constants.PITCHER_POSITIONS:\n",
    "        player_bat_side = utils.lookup_player_stats(player_name)['bat_side']\n",
    "        player_splits = constants.HITTER_FACTORS_MAPPING[player_bat_side]\n",
    "    return factors_df.loc[factors_df['Splits'] == player_splits]"
   ]
  },
  {
   "cell_type": "code",
   "execution_count": null,
   "metadata": {},
   "outputs": [],
   "source": [
    "def get_player_schedule(period_start, period_end, team_name):\n",
    "    team_id = utils.lookup_team_id(team_name)\n",
    "    games = statsapi.schedule(start_date=period_start, end_date=period_end, team=team_id)"
   ]
  },
  {
   "cell_type": "code",
   "execution_count": null,
   "metadata": {},
   "outputs": [],
   "source": [
    "team_df['Relevant Factors'] = team_df.apply(lambda row: get_relevant_factors(row['Player'], row['Picked as']), axis=1)\n",
    "team_df.head(2)"
   ]
  },
  {
   "cell_type": "code",
   "execution_count": null,
   "metadata": {},
   "outputs": [],
   "source": []
  }
 ],
 "metadata": {
  "kernelspec": {
   "display_name": ".venv",
   "language": "python",
   "name": "python3"
  },
  "language_info": {
   "codemirror_mode": {
    "name": "ipython",
    "version": 3
   },
   "file_extension": ".py",
   "mimetype": "text/x-python",
   "name": "python",
   "nbconvert_exporter": "python",
   "pygments_lexer": "ipython3",
   "version": "3.10.8"
  }
 },
 "nbformat": 4,
 "nbformat_minor": 2
}
