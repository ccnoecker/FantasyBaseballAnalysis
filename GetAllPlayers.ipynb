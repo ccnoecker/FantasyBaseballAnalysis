{
 "cells": [
  {
   "cell_type": "markdown",
   "metadata": {},
   "source": [
    "## **Before running this script, make sure to run ScrapePlayers to get current player rankings**"
   ]
  },
  {
   "cell_type": "code",
   "execution_count": 1,
   "metadata": {},
   "outputs": [],
   "source": [
    "import pandas as pd\n",
    "import statsapi\n",
    "from datetime import datetime\n",
    "\n",
    "import constants\n",
    "import utils"
   ]
  },
  {
   "cell_type": "code",
   "execution_count": 32,
   "metadata": {},
   "outputs": [],
   "source": [
    "all_teams = statsapi.get('teams', params={'sportId': 1})['teams']"
   ]
  },
  {
   "cell_type": "code",
   "execution_count": 39,
   "metadata": {},
   "outputs": [],
   "source": [
    "today = datetime.today().strftime('%m/%d/%Y')\n",
    "all_players = []\n",
    "for team in all_teams:\n",
    "    roster = statsapi.get('team_roster', {\n",
    "        'teamId': team['id'],\n",
    "        'rosterType': 'fullRoster',\n",
    "        'date': today,\n",
    "        'hydrate': 'person'\n",
    "    })\n",
    "    for player in roster['roster']:\n",
    "        person = player['person']\n",
    "        all_players.append((\n",
    "            person['fullName'],\n",
    "            person['primaryPosition']['abbreviation'],\n",
    "            team['abbreviation']\n",
    "        ))"
   ]
  },
  {
   "cell_type": "code",
   "execution_count": 5,
   "metadata": {},
   "outputs": [],
   "source": [
    "all_players_df = pd.DataFrame(all_players, columns=['Full Name', 'Primary Position', 'Team'])\n",
    "utils.save_dataframe(all_players_df, constants.ALL_PLAYERS_FILENAME)"
   ]
  },
  {
   "cell_type": "code",
   "execution_count": null,
   "metadata": {},
   "outputs": [],
   "source": []
  }
 ],
 "metadata": {
  "kernelspec": {
   "display_name": ".venv",
   "language": "python",
   "name": "python3"
  },
  "language_info": {
   "codemirror_mode": {
    "name": "ipython",
    "version": 3
   },
   "file_extension": ".py",
   "mimetype": "text/x-python",
   "name": "python",
   "nbconvert_exporter": "python",
   "pygments_lexer": "ipython3",
   "version": "3.10.8"
  }
 },
 "nbformat": 4,
 "nbformat_minor": 2
}
