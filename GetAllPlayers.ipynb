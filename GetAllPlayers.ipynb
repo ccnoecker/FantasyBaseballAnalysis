{
 "cells": [
  {
   "cell_type": "markdown",
   "metadata": {},
   "source": [
    "## **Before running this script, make sure to run ScrapePlayers to get current player rankings**"
   ]
  },
  {
   "cell_type": "code",
   "execution_count": 1,
   "metadata": {},
   "outputs": [],
   "source": [
    "import pandas as pd\n",
    "import statsapi\n",
    "from datetime import datetime\n",
    "\n",
    "import constants\n",
    "import utils"
   ]
  },
  {
   "cell_type": "code",
   "execution_count": 2,
   "metadata": {},
   "outputs": [],
   "source": [
    "all_players = utils.load_dataframe(constants.ALL_PLAYERS_FILENAME)"
   ]
  },
  {
   "cell_type": "code",
   "execution_count": 19,
   "metadata": {},
   "outputs": [
    {
     "data": {
      "text/html": [
       "<div>\n",
       "<style scoped>\n",
       "    .dataframe tbody tr th:only-of-type {\n",
       "        vertical-align: middle;\n",
       "    }\n",
       "\n",
       "    .dataframe tbody tr th {\n",
       "        vertical-align: top;\n",
       "    }\n",
       "\n",
       "    .dataframe thead th {\n",
       "        text-align: right;\n",
       "    }\n",
       "</style>\n",
       "<table border=\"1\" class=\"dataframe\">\n",
       "  <thead>\n",
       "    <tr style=\"text-align: right;\">\n",
       "      <th></th>\n",
       "      <th>Rank</th>\n",
       "      <th>Player</th>\n",
       "      <th>Best</th>\n",
       "      <th>Worst</th>\n",
       "      <th>Avg</th>\n",
       "      <th>Std Dev</th>\n",
       "      <th>ADP</th>\n",
       "      <th>vs. ADP</th>\n",
       "      <th>Team</th>\n",
       "      <th>Positions</th>\n",
       "    </tr>\n",
       "  </thead>\n",
       "  <tbody>\n",
       "    <tr>\n",
       "      <th>0</th>\n",
       "      <td>1</td>\n",
       "      <td>Ronald Acuna Jr. (ATL - RF)</td>\n",
       "      <td>1</td>\n",
       "      <td>1</td>\n",
       "      <td>1.0</td>\n",
       "      <td>0.0</td>\n",
       "      <td>1.0</td>\n",
       "      <td>‐</td>\n",
       "      <td>ATL</td>\n",
       "      <td>RF</td>\n",
       "    </tr>\n",
       "    <tr>\n",
       "      <th>1</th>\n",
       "      <td>2</td>\n",
       "      <td>Bobby Witt Jr. (KC - SS)</td>\n",
       "      <td>2</td>\n",
       "      <td>3</td>\n",
       "      <td>2.0</td>\n",
       "      <td>0.0</td>\n",
       "      <td>4.0</td>\n",
       "      <td>+2.0</td>\n",
       "      <td>KC</td>\n",
       "      <td>SS</td>\n",
       "    </tr>\n",
       "    <tr>\n",
       "      <th>2</th>\n",
       "      <td>3</td>\n",
       "      <td>Mookie Betts (LAD - 2B,SS,RF)</td>\n",
       "      <td>2</td>\n",
       "      <td>4</td>\n",
       "      <td>3.2</td>\n",
       "      <td>0.4</td>\n",
       "      <td>3.0</td>\n",
       "      <td>‐</td>\n",
       "      <td>LAD</td>\n",
       "      <td>2B,SS,RF</td>\n",
       "    </tr>\n",
       "    <tr>\n",
       "      <th>3</th>\n",
       "      <td>4</td>\n",
       "      <td>Julio Rodriguez (SEA - CF)</td>\n",
       "      <td>3</td>\n",
       "      <td>5</td>\n",
       "      <td>4.0</td>\n",
       "      <td>0.6</td>\n",
       "      <td>2.0</td>\n",
       "      <td>-2.0</td>\n",
       "      <td>SEA</td>\n",
       "      <td>CF</td>\n",
       "    </tr>\n",
       "    <tr>\n",
       "      <th>4</th>\n",
       "      <td>5</td>\n",
       "      <td>Kyle Tucker (HOU - RF)</td>\n",
       "      <td>4</td>\n",
       "      <td>8</td>\n",
       "      <td>5.6</td>\n",
       "      <td>0.5</td>\n",
       "      <td>6.0</td>\n",
       "      <td>+1.0</td>\n",
       "      <td>HOU</td>\n",
       "      <td>RF</td>\n",
       "    </tr>\n",
       "  </tbody>\n",
       "</table>\n",
       "</div>"
      ],
      "text/plain": [
       "   Rank                         Player  Best  Worst  Avg  Std Dev  ADP  \\\n",
       "0     1    Ronald Acuna Jr. (ATL - RF)     1      1  1.0      0.0  1.0   \n",
       "1     2       Bobby Witt Jr. (KC - SS)     2      3  2.0      0.0  4.0   \n",
       "2     3  Mookie Betts (LAD - 2B,SS,RF)     2      4  3.2      0.4  3.0   \n",
       "3     4     Julio Rodriguez (SEA - CF)     3      5  4.0      0.6  2.0   \n",
       "4     5         Kyle Tucker (HOU - RF)     4      8  5.6      0.5  6.0   \n",
       "\n",
       "  vs. ADP Team Positions  \n",
       "0       ‐  ATL        RF  \n",
       "1    +2.0   KC        SS  \n",
       "2       ‐  LAD  2B,SS,RF  \n",
       "3    -2.0  SEA        CF  \n",
       "4    +1.0  HOU        RF  "
      ]
     },
     "execution_count": 19,
     "metadata": {},
     "output_type": "execute_result"
    }
   ],
   "source": [
    "# Parse out player team and positions\n",
    "all_players['Team'] = all_players['Player'].str.split('(', n=1).str[1].str.split(' ', n=1).str[0]\n",
    "all_players['Positions'] = all_players['Player'].str.split(')', n=1).str[0].str.rsplit(' ', n=1).str[1]\n",
    "all_players.head(5)"
   ]
  },
  {
   "cell_type": "code",
   "execution_count": null,
   "metadata": {},
   "outputs": [],
   "source": []
  }
 ],
 "metadata": {
  "kernelspec": {
   "display_name": ".venv",
   "language": "python",
   "name": "python3"
  },
  "language_info": {
   "codemirror_mode": {
    "name": "ipython",
    "version": 3
   },
   "file_extension": ".py",
   "mimetype": "text/x-python",
   "name": "python",
   "nbconvert_exporter": "python",
   "pygments_lexer": "ipython3",
   "version": "3.10.8"
  }
 },
 "nbformat": 4,
 "nbformat_minor": 2
}
