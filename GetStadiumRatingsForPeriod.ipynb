{
 "cells": [
  {
   "cell_type": "code",
   "execution_count": null,
   "metadata": {},
   "outputs": [],
   "source": [
    "import pandas as pd\n",
    "import requests\n",
    "from bs4 import BeautifulSoup"
   ]
  },
  {
   "cell_type": "markdown",
   "metadata": {},
   "source": [
    "### Scrape park factors from Fantasypros"
   ]
  },
  {
   "cell_type": "code",
   "execution_count": null,
   "metadata": {},
   "outputs": [],
   "source": [
    "PARK_FACTORS_URL = 'https://www.fantasypros.com/mlb/park-factors.php'\n",
    "site_data = requests.get(PARK_FACTORS_URL).text\n",
    "soup = BeautifulSoup(site_data)"
   ]
  },
  {
   "cell_type": "markdown",
   "metadata": {},
   "source": [
    "Get table headers"
   ]
  },
  {
   "cell_type": "code",
   "execution_count": null,
   "metadata": {},
   "outputs": [],
   "source": [
    "table = soup.find('table')\n",
    "headers = [header.text for header in table.find_all('th')]\n",
    "headers.append('Splits')"
   ]
  },
  {
   "cell_type": "markdown",
   "metadata": {},
   "source": [
    "Parse table data"
   ]
  },
  {
   "cell_type": "code",
   "execution_count": null,
   "metadata": {},
   "outputs": [],
   "source": [
    "park_factors = []\n",
    "for row in table.tbody.find_all('tr'):\n",
    "    park_factor = []\n",
    "    for data in row.find_all('td'):\n",
    "        park_factor.append(data.text.strip())\n",
    "\n",
    "    row_class = row.get('class')[0]\n",
    "    if row_class == 'R':\n",
    "        splits = 'RHB'\n",
    "    elif row_class == 'L':\n",
    "        splits = 'LHB'\n",
    "    else:\n",
    "        splits = 'All'\n",
    "    park_factor.append(splits)\n",
    "    park_factors.append(park_factor)\n",
    "park_factors[:2]"
   ]
  },
  {
   "cell_type": "markdown",
   "metadata": {},
   "source": [
    "### Calculate park factor for each player in given period"
   ]
  },
  {
   "cell_type": "code",
   "execution_count": null,
   "metadata": {},
   "outputs": [],
   "source": [
    "factors_df = pd.DataFrame(park_factors, columns=headers)\n",
    "team_df = pd.read_csv('./team.csv')\n",
    "team_df.head(2)"
   ]
  },
  {
   "cell_type": "code",
   "execution_count": null,
   "metadata": {},
   "outputs": [],
   "source": []
  }
 ],
 "metadata": {
  "kernelspec": {
   "display_name": ".venv",
   "language": "python",
   "name": "python3"
  },
  "language_info": {
   "codemirror_mode": {
    "name": "ipython",
    "version": 3
   },
   "file_extension": ".py",
   "mimetype": "text/x-python",
   "name": "python",
   "nbconvert_exporter": "python",
   "pygments_lexer": "ipython3",
   "version": "3.10.8"
  }
 },
 "nbformat": 4,
 "nbformat_minor": 2
}
